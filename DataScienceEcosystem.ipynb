{
 "cells": [
  {
   "cell_type": "markdown",
   "id": "a4e48c83-f238-422e-beb3-bc0601d7b5d9",
   "metadata": {
    "tags": []
   },
   "source": [
    "# Data Science Tools and Ecosystem"
   ]
  },
  {
   "cell_type": "markdown",
   "id": "01e069df-4729-4d3e-81a2-9bbb5ae0bdeb",
   "metadata": {},
   "source": [
    "## In this notebook, Data Science Tools and Ecosystem are summarized with examples."
   ]
  },
  {
   "cell_type": "markdown",
   "id": "684795fe-4e55-4e51-be0f-5ea496850fad",
   "metadata": {},
   "source": [
    "Some of the popular languages that Data Scientists use are:\n",
    "1. Python\n",
    "2. R\n",
    "3. Julia\n",
    "4. Scala\n",
    "5. SQL\n",
    "6. Java\n",
    "7. C++"
   ]
  },
  {
   "cell_type": "markdown",
   "id": "30163373-a0ad-4887-a0e8-0101a197f587",
   "metadata": {},
   "source": [
    "Some of the commonly used libraries used by Data Scientists include:\n",
    "1. Pandas (Python)\n",
    "2. Scikit-learn (Python)\n",
    "3. matplotlib (Python)\n",
    "4. Keras (Python)\n",
    "5. caret (R)\n",
    "6. ggplot (R)"
   ]
  },
  {
   "cell_type": "markdown",
   "id": "097850db-f520-4929-8f68-809e5eab6cdc",
   "metadata": {},
   "source": [
    "|Data Science Tools|\n",
    " ------------------\n",
    "| Jypyter lab      |\n",
    "| Google Colab     |\n",
    "| Rstudio          |\n",
    "| VS code          |"
   ]
  },
  {
   "cell_type": "markdown",
   "id": "cce20b66-1b00-426d-a1e3-a575dfccc32c",
   "metadata": {},
   "source": [
    "### Below are a few examples of evaluating arithmetic expressions in Python\n",
    "1. Addition 5+5 = 10\n",
    "2. Multiplication 5*5 = 25\n",
    "3. Division 5/5 =1"
   ]
  },
  {
   "cell_type": "code",
   "execution_count": 6,
   "id": "9da8ea83-d94d-4d50-814f-e4d9616fa06c",
   "metadata": {},
   "outputs": [
    {
     "data": {
      "text/plain": [
       "17"
      ]
     },
     "execution_count": 6,
     "metadata": {},
     "output_type": "execute_result"
    }
   ],
   "source": [
    "# This a simple arithmetic expression to mutiply then add integers \n",
    "(3*4)+5"
   ]
  },
  {
   "cell_type": "code",
   "execution_count": 7,
   "id": "6edde3c7-8e58-4793-a547-ba2349c6d650",
   "metadata": {},
   "outputs": [
    {
     "data": {
      "text/plain": [
       "3.3333333333333335"
      ]
     },
     "execution_count": 7,
     "metadata": {},
     "output_type": "execute_result"
    }
   ],
   "source": [
    "#This will convert 200 minutes to hours by diving by 60\n",
    "200/60 "
   ]
  },
  {
   "cell_type": "markdown",
   "id": "4a61eb2c-ac94-462e-9f54-a8b01bb1b2cd",
   "metadata": {},
   "source": [
    "**Objectives:**\n",
    "- List popular languages for Data Science\n",
    "- List common development environment\n",
    "- List common version control applications\n",
    "- Introdution to the popular tools with hands-on experience"
   ]
  },
  {
   "cell_type": "markdown",
   "id": "4ac52dec-98ee-4c12-9829-ed61e2ba9cee",
   "metadata": {},
   "source": [
    "## Author\n",
    "Atul Kumar"
   ]
  },
  {
   "cell_type": "code",
   "execution_count": null,
   "id": "27814719-ccf9-4cf7-bbeb-79417a66a640",
   "metadata": {},
   "outputs": [],
   "source": []
  }
 ],
 "metadata": {
  "kernelspec": {
   "display_name": "Python 3 (ipykernel)",
   "language": "python",
   "name": "python3"
  },
  "language_info": {
   "codemirror_mode": {
    "name": "ipython",
    "version": 3
   },
   "file_extension": ".py",
   "mimetype": "text/x-python",
   "name": "python",
   "nbconvert_exporter": "python",
   "pygments_lexer": "ipython3",
   "version": "3.12.2"
  }
 },
 "nbformat": 4,
 "nbformat_minor": 5
}
